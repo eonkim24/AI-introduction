{
 "cells": [
  {
   "cell_type": "code",
   "execution_count": 5,
   "id": "d2c759fd-9394-433e-9c05-0899bdc02aea",
   "metadata": {},
   "outputs": [],
   "source": [
    "import matplotlib.pyplot as plt\n",
    "import numpy as np\n",
    "import torch\n",
    "import torch.nn as nn\n",
    "import torch.optim as optim\n",
    "from torch.utils.data import DataLoader, TensorDataset\n",
    "from sklearn import datasets, metrics\n",
    "from sklearn.model_selection import train_test_split"
   ]
  },
  {
   "cell_type": "code",
   "execution_count": 11,
   "id": "2185df8b-f51f-460e-90ee-f59c244cf739",
   "metadata": {},
   "outputs": [
    {
     "data": {
      "text/plain": [
       "<matplotlib.image.AxesImage at 0x2c8e3687b30>"
      ]
     },
     "execution_count": 11,
     "metadata": {},
     "output_type": "execute_result"
    },
    {
     "data": {
      "image/png": "[encoded data removed]",
      "text/plain": [
       "<Figure size 640x480 with 1 Axes>"
      ]
     },
     "metadata": {},
     "output_type": "display_data"
    }
   ],
   "source": [
    "# MNIST 손글씨 숫자 데이터셋 로드\n",
    "digits = datasets.load_digits()\n",
    "plt.imshow(digits.images[0], cmap=plt.cm.gray_r, interpolation='nearest')"
   ]
  },
  {
   "cell_type": "code",
   "execution_count": 13,
   "id": "296c31b1-44d3-45d9-8681-9832a10dace7",
   "metadata": {},
   "outputs": [
    {
     "data": {
      "image/png": "[encoded data removed]",
      "text/plain": [
       "<Figure size 500x500 with 1 Axes>"
      ]
     },
     "metadata": {},
     "output_type": "display_data"
    }
   ],
   "source": [
    "# 첫 번째 샘플 이미지 시각화\n",
    "plt.figure(figsize=(5, 5))\n",
    "plt.imshow(digits.images[0], cmap=plt.cm.gray_r, interpolation='nearest')\n",
    "plt.title('샘플 이미지')\n",
    "plt.axis('off')\n",
    "plt.show()"
   ]
  },
  {
   "cell_type": "code",
   "execution_count": 15,
   "id": "34c6cdca-e682-4f30-aefa-dcc9718ea1bd",
   "metadata": {},
   "outputs": [],
   "source": [
    "# 데이터 전처리\n",
    "n_samples = len(digits.images)\n",
    "X = digits.images.reshape((n_samples, -1))\n",
    "y = digits.target"
   ]
  },
  {
   "cell_type": "code",
   "execution_count": 17,
   "id": "843cee40-34fe-4cba-9166-ef696788bf19",
   "metadata": {},
   "outputs": [],
   "source": [
    "# 표준화\n",
    "scaler = StandardScaler()\n",
    "X = scaler.fit_transform(X)\n",
    "\n",
    "# 훈련/테스트 분할\n",
    "X_train, X_test, y_train, y_test = train_test_split(X, y, test_size=0.2, random_state=42)"
   ]
  },
  {
   "cell_type": "code",
   "execution_count": 19,
   "id": "ef4f87d2-7d56-4bc0-989c-074734d266a0",
   "metadata": {},
   "outputs": [],
   "source": [
    "# PyTorch 텐서로 변환\n",
    "X_train_tensor = torch.FloatTensor(X_train)\n",
    "y_train_tensor = torch.LongTensor(y_train)\n",
    "X_test_tensor = torch.FloatTensor(X_test)\n",
    "y_test_tensor = torch.LongTensor(y_test)"
   ]
  },
  {
   "cell_type": "code",
   "execution_count": 23,
   "id": "4fea7815-0576-4a9a-9891-dd524118c2f9",
   "metadata": {},
   "outputs": [],
   "source": [
    "# 데이터셋 및 데이터로더 생성\n",
    "train_dataset = TensorDataset(X_train_tensor, y_train_tensor)\n",
    "test_dataset = TensorDataset(X_test_tensor, y_test_tensor)\n",
    "\n",
    "batch_size = 64\n",
    "train_loader = DataLoader(train_dataset, batch_size=batch_size, shuffle=True)\n",
    "test_loader = DataLoader(test_dataset, batch_size=batch_size)"
   ]
  },
  {
   "cell_type": "code",
   "execution_count": 27,
   "id": "205def1f-92c7-4075-bd2f-375b8c62d7ba",
   "metadata": {},
   "outputs": [],
   "source": [
    "# 모델 정의 (다중 분류)\n",
    "class DigitsMultiClassDNN(nn.Module):\n",
    "    def __init__(self):\n",
    "        super(DigitsMultiClassDNN, self).__init__()\n",
    "        self.fc1 = nn.Linear(64, 64)\n",
    "        self.fc2 = nn.Linear(64, 32)\n",
    "        self.fc3 = nn.Linear(32, 10)  # 10 클래스 분류\n",
    "    \n",
    "    def forward(self, x):\n",
    "        x = torch.relu(self.fc1(x))\n",
    "        x = torch.relu(self.fc2(x))\n",
    "        x = self.fc3(x)  # CrossEntropyLoss는 softmax 없이 logits 입력 받음\n",
    "        return x"
   ]
  },
  {
   "cell_type": "code",
   "execution_count": 31,
   "id": "10ea4a4e-ccc2-4f54-a28b-d24dbd416beb",
   "metadata": {},
   "outputs": [],
   "source": [
    "# 모델, 손실함수, 옵티마이저 정의\n",
    "model = DigitsMultiClassDNN()\n",
    "criterion = nn.CrossEntropyLoss()\n",
    "optimizer = optim.Adam(model.parameters(), lr=0.001)"
   ]
  },
  {
   "cell_type": "code",
   "execution_count": 39,
   "id": "3aab05cf-671c-4a52-a441-4a5a220e2a75",
   "metadata": {},
   "outputs": [
    {
     "name": "stdout",
     "output_type": "stream",
     "text": [
      "Epoch 1/20, Loss: 2.2189, Accuracy: 49.13%\n",
      "Epoch 2/20, Loss: 1.8795, Accuracy: 77.17%\n",
      "Epoch 3/20, Loss: 1.2989, Accuracy: 85.66%\n",
      "Epoch 4/20, Loss: 0.7224, Accuracy: 90.05%\n",
      "Epoch 5/20, Loss: 0.4122, Accuracy: 93.60%\n",
      "Epoch 6/20, Loss: 0.2723, Accuracy: 95.48%\n",
      "Epoch 7/20, Loss: 0.2029, Accuracy: 96.17%\n",
      "Epoch 8/20, Loss: 0.1627, Accuracy: 97.15%\n",
      "Epoch 9/20, Loss: 0.1314, Accuracy: 97.43%\n",
      "Epoch 10/20, Loss: 0.1123, Accuracy: 98.12%\n",
      "Epoch 11/20, Loss: 0.0948, Accuracy: 98.61%\n",
      "Epoch 12/20, Loss: 0.0810, Accuracy: 98.82%\n",
      "Epoch 13/20, Loss: 0.0705, Accuracy: 99.16%\n",
      "Epoch 14/20, Loss: 0.0638, Accuracy: 99.16%\n",
      "Epoch 15/20, Loss: 0.0546, Accuracy: 99.37%\n",
      "Epoch 16/20, Loss: 0.0482, Accuracy: 99.37%\n",
      "Epoch 17/20, Loss: 0.0426, Accuracy: 99.37%\n",
      "Epoch 18/20, Loss: 0.0383, Accuracy: 99.58%\n",
      "Epoch 19/20, Loss: 0.0344, Accuracy: 99.65%\n",
      "Epoch 20/20, Loss: 0.0304, Accuracy: 99.72%\n"
     ]
    }
   ],
   "source": [
    "train_losses = []\n",
    "test_accuracies = []\n",
    "num_epochs = 20\n",
    "\n",
    "for epoch in range(num_epochs):\n",
    "    model.train()\n",
    "    running_loss = 0.0\n",
    "\n",
    "    for inputs, labels in train_loader:\n",
    "        optimizer.zero_grad()\n",
    "        outputs = model(inputs)\n",
    "        loss = criterion(outputs, labels)\n",
    "        loss.backward()\n",
    "        optimizer.step()\n",
    "        running_loss += loss.item()\n",
    "\n",
    "    train_losses.append(running_loss / len(train_loader))\n",
    "\n",
    "    # 테스트 정확도 평가\n",
    "    model.eval()\n",
    "    correct = 0\n",
    "    total = 0\n",
    "    with torch.no_grad():\n",
    "        for inputs, labels in train_loader:\n",
    "            outputs = model(inputs)\n",
    "            _, predicted = torch.max(outputs.data, 1)\n",
    "            total += labels.size(0)\n",
    "            correct += (predicted == labels).sum().item()\n",
    "\n",
    "    accuracy = 100 * correct / total\n",
    "    test_accuracies.append(accuracy)\n",
    "    print(f\"Epoch {epoch + 1}/{num_epochs}, Loss: {train_losses[-1]:.4f}, Accuracy: {accuracy:.2f}%\")"
   ]
  },
  {
   "cell_type": "code",
   "execution_count": 43,
   "id": "1ff1c9d9-b81b-4e22-ac02-deda0cd343ab",
   "metadata": {},
   "outputs": [
    {
     "name": "stdout",
     "output_type": "stream",
     "text": [
      "=== 모델 평가 결과 ===\n",
      "Confusion Matrix:\n",
      "[[33  0  0  0  0  0  0  0  0  0]\n",
      " [ 0 28  0  0  0  0  0  0  0  0]\n",
      " [ 0  0 33  0  0  0  0  0  0  0]\n",
      " [ 0  0  1 32  0  1  0  0  0  0]\n",
      " [ 0  0  0  0 46  0  0  0  0  0]\n",
      " [ 0  0  0  0  0 45  1  0  0  1]\n",
      " [ 1  0  0  0  0  0 34  0  0  0]\n",
      " [ 0  0  0  0  0  1  0 33  0  0]\n",
      " [ 0  1  0  0  0  1  0  0 28  0]\n",
      " [ 0  0  0  2  0  0  0  0  1 37]]\n",
      "F1 Score      : 0.9693\n",
      "Precision     : 0.9696\n",
      "Recall        : 0.9694\n",
      "Specificity   : 0.9966\n"
     ]
    }
   ],
   "source": [
    "import numpy as np\n",
    "from sklearn.metrics import confusion_matrix, f1_score, precision_score, recall_score\n",
    "\n",
    "# 모델 평가 모드로 전환 (Dropout, BatchNorm 비활성화)\n",
    "model.eval()\n",
    "\n",
    "# 예측 및 라벨 저장용 리스트\n",
    "all_labels = []\n",
    "all_predictions = []\n",
    "\n",
    "# 평가 시에는 그래디언트 비활성화 → 속도 & 메모리 최적화\n",
    "with torch.no_grad():\n",
    "    for inputs, labels in test_loader:\n",
    "        outputs = model(inputs)  # 순전파\n",
    "        _, predicted = torch.max(outputs.data, 1)  # 가장 높은 확률의 클래스 선택\n",
    "\n",
    "        all_labels.extend(labels.cpu().numpy())\n",
    "        all_predictions.extend(predicted.cpu().numpy())\n",
    "\n",
    "# 리스트를 numpy 배열로 변환\n",
    "all_labels = np.array(all_labels)\n",
    "all_predictions = np.array(all_predictions)\n",
    "\n",
    "# 혼동 행렬 및 기본 평가 지표 계산\n",
    "conf_matrix = confusion_matrix(all_labels, all_predictions)\n",
    "f1 = f1_score(all_labels, all_predictions, average='weighted')\n",
    "precision = precision_score(all_labels, all_predictions, average='weighted')\n",
    "recall = recall_score(all_labels, all_predictions, average='weighted')\n",
    "\n",
    "# 클래스별 Specificity 계산\n",
    "specificity = []\n",
    "with np.errstate(divide='ignore', invalid='ignore'):  # 0으로 나누는 경우 방지\n",
    "    for i in range(conf_matrix.shape[0]):\n",
    "        tn = conf_matrix.sum() - (conf_matrix[i, :].sum() + conf_matrix[:, i].sum() - conf_matrix[i, i])\n",
    "        fp = conf_matrix[:, i].sum() - conf_matrix[i, i]\n",
    "        spec = tn / (tn + fp) if (tn + fp) > 0 else 0.0\n",
    "        specificity.append(spec)\n",
    "\n",
    "# 결과 출력\n",
    "print(\"=== 모델 평가 결과 ===\")\n",
    "print(f\"Confusion Matrix:\\n{conf_matrix}\")\n",
    "print(f\"F1 Score      : {f1:.4f}\")\n",
    "print(f\"Precision     : {precision:.4f}\")\n",
    "print(f\"Recall        : {recall:.4f}\")\n",
    "print(f\"Specificity   : {np.mean(specificity):.4f}\")"
   ]
  },
  {
   "cell_type": "code",
   "execution_count": 45,
   "id": "43ec77f4-7b5c-4007-ade2-222527acd739",
   "metadata": {},
   "outputs": [
    {
     "data": {
      "image/png": "[encoded data removed]",
      "text/plain": [
       "<Figure size 1200x500 with 2 Axes>"
      ]
     },
     "metadata": {},
     "output_type": "display_data"
    }
   ],
   "source": [
    "# Plot the loss and accuracy\n",
    "plt.figure(figsize=(12, 5))\n",
    "\n",
    "# Plot loss\n",
    "plt.subplot(1, 2, 1)\n",
    "plt.plot(train_losses, label='Training Loss')\n",
    "plt.xlabel('Epoch')\n",
    "plt.ylabel('Loss')\n",
    "plt.title('Training Loss Over Epochs')\n",
    "plt.legend()\n",
    "\n",
    "# Plot accuracy\n",
    "plt.subplot(1, 2, 2)\n",
    "plt.plot(test_accuracies, label='Test Accuracy')\n",
    "plt.xlabel('Epoch')\n",
    "plt.ylabel('Accuracy (%)')\n",
    "plt.title('Test Accuracy Over Epochs')\n",
    "plt.legend()\n",
    "\n",
    "plt.show()"
   ]
  }
 ],
 "metadata": {
  "kernelspec": {
   "display_name": "Python 3 (ipykernel)",
   "language": "python",
   "name": "python3"
  },
  "language_info": {
   "codemirror_mode": {
    "name": "ipython",
    "version": 3
   },
   "file_extension": ".py",
   "mimetype": "text/x-python",
   "name": "python",
   "nbconvert_exporter": "python",
   "pygments_lexer": "ipython3",
   "version": "3.12.7"
  }
 },
 "nbformat": 4,
 "nbformat_minor": 5
}
