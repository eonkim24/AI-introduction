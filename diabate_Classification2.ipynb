{
 "cells": [
  {
   "cell_type": "code",
   "execution_count": 1,
   "id": "b84b7898-30b4-444c-b2ed-903aae4c9946",
   "metadata": {},
   "outputs": [],
   "source": [
    "import pandas as pd\n",
    "import torch\n",
    "import numpy as np\n",
    "import torch.nn as nn\n",
    "import torch.optim as optim\n",
    "from torch.utils.data import Dataset, DataLoader, TensorDataset\n",
    "from sklearn.preprocessing import LabelEncoder\n",
    "from sklearn.metrics import precision_score, recall_score, f1_score, roc_auc_score, confusion_matrix, ConfusionMatrixDisplay\n",
    "\n",
    "import matplotlib.pyplot as plt\n",
    "from torchsummary import summary\n",
    "import numpy as np"
   ]
  },
  {
   "cell_type": "code",
   "execution_count": 3,
   "id": "e0020632-b50d-47bb-86e3-c3444a1f324b",
   "metadata": {},
   "outputs": [],
   "source": [
    "# 데이터셋 인스턴스 생성\n",
    "\n",
    "data = pd.read_csv(\"C:\\\\Users\\\\piak6\\\\Downloads\\\\diabetes.csv\")  # CSV 파일 경로"
   ]
  },
  {
   "cell_type": "code",
   "execution_count": 5,
   "id": "9d5d060e-ff61-4d3b-b379-593baa0c809f",
   "metadata": {},
   "outputs": [],
   "source": [
    "X = data.drop('Outcome', axis=1).values\n",
    "y = data['Outcome'].values"
   ]
  },
  {
   "cell_type": "code",
   "execution_count": 7,
   "id": "42883d72-ef54-43ad-a5c5-7e6e329d1523",
   "metadata": {},
   "outputs": [],
   "source": [
    "from sklearn.preprocessing import StandardScaler\n",
    "from sklearn.model_selection import train_test_split\n",
    "\n",
    "scaler = StandardScaler()\n",
    "X = scaler.fit_transform(X)\n",
    "X_train, X_test, y_train, y_test = train_test_split(X, y, test_size=0.2, random_state=0)"
   ]
  },
  {
   "cell_type": "code",
   "execution_count": 9,
   "id": "c2bf7d0d-e25f-4e20-9511-1f193cabd069",
   "metadata": {},
   "outputs": [],
   "source": [
    "X_train = torch.tensor(X_train, dtype=torch.float32)\n",
    "y_train = torch.tensor(y_train, dtype=torch.float32)\n",
    "X_test = torch.tensor(X_test, dtype=torch.float32)\n",
    "y_test = torch.tensor(y_test, dtype=torch.float32)"
   ]
  },
  {
   "cell_type": "code",
   "execution_count": 11,
   "id": "60db4139-4f87-44b6-84da-951320494709",
   "metadata": {},
   "outputs": [],
   "source": [
    "train_dataset = TensorDataset(X_train, y_train)\n",
    "train_dataloader = DataLoader(train_dataset, batch_size=32, shuffle=True)"
   ]
  },
  {
   "cell_type": "code",
   "execution_count": 13,
   "id": "6141bbc9-7e61-40f3-9190-48f039f5bced",
   "metadata": {},
   "outputs": [
    {
     "data": {
      "text/plain": [
       "(torch.Size([614, 8]),\n",
       " torch.Size([614]),\n",
       " torch.Size([154, 8]),\n",
       " torch.Size([154]))"
      ]
     },
     "execution_count": 13,
     "metadata": {},
     "output_type": "execute_result"
    }
   ],
   "source": [
    "X_train.shape, y_train.shape, X_test.shape, y_test.shape  "
   ]
  },
  {
   "cell_type": "code",
   "execution_count": 15,
   "id": "58f37a6a-5339-4c16-8406-e36390097576",
   "metadata": {},
   "outputs": [],
   "source": [
    "class diabetesDense(nn.Module):\n",
    "    def __init__(self):\n",
    "        super(diabetesDense, self).__init__()\n",
    "        self.model = nn.Sequential(\n",
    "            nn.Linear(8, 64),\n",
    "            nn.ReLU(),\n",
    "            nn.Linear(64, 32),\n",
    "            nn.ReLU(),\n",
    "            nn.Linear(32, 1),  # 출력 크기 1\n",
    "            nn.Sigmoid() \n",
    "        )\n",
    "\n",
    "    def forward(self, x):\n",
    "        return self.model(x)\n",
    "\n",
    "model = diabetesDense()"
   ]
  },
  {
   "cell_type": "code",
   "execution_count": 17,
   "id": "b3c909a3-c3a5-457e-954b-c3917fe13828",
   "metadata": {},
   "outputs": [],
   "source": [
    "train_dataset = TensorDataset(X_train, y_train)\n",
    "train_dataloader = DataLoader(train_dataset, batch_size=32, shuffle=True)\n",
    "\n",
    "test_dataset = TensorDataset(X_test, y_test)\n",
    "test_dataloader = DataLoader(test_dataset, batch_size=32, shuffle=False)"
   ]
  },
  {
   "cell_type": "code",
   "execution_count": 19,
   "id": "651a42c8-6d55-439f-9f69-b5d062a42b74",
   "metadata": {},
   "outputs": [],
   "source": [
    "criterion = nn.BCELoss()\n",
    "optimizer = optim.Adam(model.parameters(), lr=0.001)"
   ]
  },
  {
   "cell_type": "code",
   "execution_count": 21,
   "id": "9e2aa5a0-f379-4716-be8a-0ea2953360cf",
   "metadata": {},
   "outputs": [
    {
     "name": "stdout",
     "output_type": "stream",
     "text": [
      "Epoch 1/30, Loss: 0.6566, Accuracy: 70.13%\n",
      "Epoch 2/30, Loss: 0.5992, Accuracy: 75.32%\n",
      "Epoch 3/30, Loss: 0.5436, Accuracy: 77.27%\n",
      "Epoch 4/30, Loss: 0.5054, Accuracy: 77.92%\n",
      "Epoch 5/30, Loss: 0.4853, Accuracy: 79.87%\n",
      "Epoch 6/30, Loss: 0.4734, Accuracy: 79.87%\n",
      "Epoch 7/30, Loss: 0.4652, Accuracy: 79.87%\n",
      "Epoch 8/30, Loss: 0.4754, Accuracy: 79.87%\n",
      "Epoch 9/30, Loss: 0.4434, Accuracy: 79.22%\n",
      "Epoch 10/30, Loss: 0.4541, Accuracy: 79.87%\n",
      "Epoch 11/30, Loss: 0.4500, Accuracy: 79.87%\n",
      "Epoch 12/30, Loss: 0.4463, Accuracy: 79.87%\n",
      "Epoch 13/30, Loss: 0.4418, Accuracy: 79.87%\n",
      "Epoch 14/30, Loss: 0.4456, Accuracy: 79.87%\n",
      "Epoch 15/30, Loss: 0.4473, Accuracy: 79.22%\n",
      "Epoch 16/30, Loss: 0.4271, Accuracy: 79.87%\n",
      "Epoch 17/30, Loss: 0.4286, Accuracy: 79.87%\n",
      "Epoch 18/30, Loss: 0.4355, Accuracy: 79.87%\n",
      "Epoch 19/30, Loss: 0.4394, Accuracy: 79.22%\n",
      "Epoch 20/30, Loss: 0.4294, Accuracy: 79.87%\n",
      "Epoch 21/30, Loss: 0.4226, Accuracy: 79.22%\n",
      "Epoch 22/30, Loss: 0.4243, Accuracy: 79.87%\n",
      "Epoch 23/30, Loss: 0.4489, Accuracy: 80.52%\n",
      "Epoch 24/30, Loss: 0.4235, Accuracy: 79.87%\n",
      "Epoch 25/30, Loss: 0.4109, Accuracy: 79.87%\n",
      "Epoch 26/30, Loss: 0.4264, Accuracy: 79.22%\n",
      "Epoch 27/30, Loss: 0.4176, Accuracy: 79.87%\n",
      "Epoch 28/30, Loss: 0.4134, Accuracy: 80.52%\n",
      "Epoch 29/30, Loss: 0.4065, Accuracy: 77.92%\n",
      "Epoch 30/30, Loss: 0.4232, Accuracy: 79.87%\n",
      "Training complete.\n"
     ]
    }
   ],
   "source": [
    "import torch\n",
    "\n",
    "# 변수 초기화\n",
    "train_losses = []\n",
    "test_accuracies = []\n",
    "\n",
    "# GPU 사용 여부 확인\n",
    "device = torch.device(\"cuda\" if torch.cuda.is_available() else \"cpu\")\n",
    "model.to(device)  # 모델을 GPU로 이동\n",
    "\n",
    "# Training loop\n",
    "num_epochs = 30\n",
    "for epoch in range(num_epochs):\n",
    "    model.train()\n",
    "    running_loss = 0.0\n",
    "\n",
    "    for inputs, labels in train_dataloader:\n",
    "        inputs, labels = inputs.to(device).float(), labels.to(device).float()  # 데이터를 GPU로 이동 및 dtype 변환\n",
    "        labels = labels.view(-1, 1)  # BCEWithLogitsLoss를 사용할 경우 labels 크기 맞추기\n",
    "\n",
    "        # Zero the parameter gradients\n",
    "        optimizer.zero_grad()\n",
    "\n",
    "        # Forward pass\n",
    "        outputs = model(inputs)\n",
    "        loss = criterion(outputs, labels)\n",
    "\n",
    "        # Backward pass and optimize\n",
    "        loss.backward()\n",
    "        optimizer.step()\n",
    "\n",
    "        running_loss += loss.item()\n",
    "\n",
    "    # Calculate average loss over an epoch\n",
    "    train_losses.append(running_loss / len(train_dataloader))\n",
    "\n",
    "    # Evaluate on test data\n",
    "    model.eval()\n",
    "    correct = 0\n",
    "    total = 0\n",
    "    with torch.no_grad():\n",
    "        for inputs, labels in test_dataloader:\n",
    "            inputs, labels = inputs.to(device).float(), labels.to(device).float()\n",
    "            labels = labels.view(-1, 1)\n",
    "\n",
    "            outputs = model(inputs)\n",
    "            predicted = (outputs >= 0.5).float()  # 이진 분류에서는 0.5 기준으로 예측값 결정\n",
    "            total += labels.size(0)\n",
    "            correct += (predicted == labels).sum().item()\n",
    "\n",
    "    accuracy = 100 * correct / total\n",
    "    test_accuracies.append(accuracy)\n",
    "\n",
    "    print(f\"Epoch {epoch + 1}/{num_epochs}, Loss: {train_losses[-1]:.4f}, Accuracy: {accuracy:.2f}%\")\n",
    "\n",
    "print(\"Training complete.\")"
   ]
  },
  {
   "cell_type": "code",
   "execution_count": 23,
   "id": "b5dac7b3-d5b2-4113-a44b-74712cb36bbb",
   "metadata": {},
   "outputs": [
    {
     "name": "stdout",
     "output_type": "stream",
     "text": [
      "Accuracy: 79.87%\n",
      "Confusion Matrix:\n",
      "[[92 15]\n",
      " [16 31]]\n",
      "F1 Score: 0.80\n",
      "Precision: 0.80\n",
      "Recall: 0.80\n",
      "Specificity: 0.76\n"
     ]
    }
   ],
   "source": [
    "import torch\n",
    "import numpy as np\n",
    "from sklearn.metrics import confusion_matrix, f1_score, precision_score, recall_score\n",
    "\n",
    "# 모델 평가 모드로 변경\n",
    "model.eval()\n",
    "\n",
    "# GPU 사용 여부 확인\n",
    "device = torch.device(\"cuda\" if torch.cuda.is_available() else \"cpu\")\n",
    "model.to(device)  # 모델을 GPU로 이동\n",
    "\n",
    "# 결과 저장\n",
    "all_labels = []\n",
    "all_predictions = []\n",
    "\n",
    "# 평가 데이터 처리\n",
    "with torch.no_grad():\n",
    "    for inputs, labels in test_dataloader:\n",
    "        inputs, labels = inputs.to(device).float(), labels.to(device).float()  # 데이터 GPU로 이동 및 dtype 변환\n",
    "        labels = labels.view(-1, 1)  # BCEWithLogitsLoss 사용 시 크기 맞추기\n",
    "\n",
    "        outputs = model(inputs)\n",
    "\n",
    "        # 이진 분류일 경우 확률 기준으로 예측\n",
    "        predicted = (outputs >= 0.5).float()  # 0.5 기준으로 분류\n",
    "\n",
    "        all_labels.extend(labels.cpu().numpy())\n",
    "        all_predictions.extend(predicted.cpu().numpy())\n",
    "\n",
    "# Convert to numpy arrays\n",
    "all_labels = np.array(all_labels)\n",
    "all_predictions = np.array(all_predictions)\n",
    "\n",
    "# Calculate metrics\n",
    "conf_matrix = confusion_matrix(all_labels, all_predictions)\n",
    "f1 = f1_score(all_labels, all_predictions, average='weighted')\n",
    "precision = precision_score(all_labels, all_predictions, average='weighted')\n",
    "recall = recall_score(all_labels, all_predictions, average='weighted')\n",
    "\n",
    "# Calculate specificity for each class\n",
    "specificity = []\n",
    "for i in range(conf_matrix.shape[0]):\n",
    "    tn = conf_matrix.sum() - (conf_matrix[i, :].sum() + conf_matrix[:, i].sum() - conf_matrix[i, i])\n",
    "    fp = conf_matrix[:, i].sum() - conf_matrix[i, i]\n",
    "    specificity.append(tn / (tn + fp))\n",
    "\n",
    "# 결과 출력\n",
    "print(f'Accuracy: {accuracy:.2f}%')\n",
    "print(f'Confusion Matrix:\\n{conf_matrix}')\n",
    "print(f'F1 Score: {f1:.2f}')\n",
    "print(f'Precision: {precision:.2f}')\n",
    "print(f'Recall: {recall:.2f}')\n",
    "print(f'Specificity: {np.mean(specificity):.2f}')"
   ]
  },
  {
   "cell_type": "code",
   "execution_count": 25,
   "id": "2b20e34a-1c00-46c9-8cfd-467344369dc8",
   "metadata": {},
   "outputs": [
    {
     "data": {
      "image/png": "[encoded data removed]",
      "text/plain": [
       "<Figure size 1200x500 with 2 Axes>"
      ]
     },
     "metadata": {},
     "output_type": "display_data"
    }
   ],
   "source": [
    "import matplotlib.pyplot as plt\n",
    "# Plot the loss and accuracy\n",
    "plt.figure(figsize=(12, 5))\n",
    "\n",
    "# Plot loss\n",
    "plt.subplot(1, 2, 1)\n",
    "plt.plot(train_losses, label='Training Loss')\n",
    "plt.xlabel('Epoch')\n",
    "plt.ylabel('Loss')\n",
    "plt.title('Training Loss Over Epochs')\n",
    "plt.legend()\n",
    "\n",
    "# Plot accuracy\n",
    "plt.subplot(1, 2, 2)\n",
    "plt.plot(test_accuracies, label='Test Accuracy')\n",
    "plt.xlabel('Epoch')\n",
    "plt.ylabel('Accuracy (%)')\n",
    "plt.title('Test Accuracy Over Epochs')\n",
    "plt.legend()\n",
    "\n",
    "plt.show()"
   ]
  },
  {
   "cell_type": "code",
   "execution_count": null,
   "id": "b619460c-955f-49a6-8a49-2da9447df1eb",
   "metadata": {},
   "outputs": [],
   "source": []
  }
 ],
 "metadata": {
  "kernelspec": {
   "display_name": "Python 3 (ipykernel)",
   "language": "python",
   "name": "python3"
  },
  "language_info": {
   "codemirror_mode": {
    "name": "ipython",
    "version": 3
   },
   "file_extension": ".py",
   "mimetype": "text/x-python",
   "name": "python",
   "nbconvert_exporter": "python",
   "pygments_lexer": "ipython3",
   "version": "3.12.7"
  }
 },
 "nbformat": 4,
 "nbformat_minor": 5
}
